{
  "nbformat": 4,
  "nbformat_minor": 0,
  "metadata": {
    "colab": {
      "provenance": []
    },
    "kernelspec": {
      "name": "python3",
      "display_name": "Python 3"
    },
    "language_info": {
      "name": "python"
    }
  },
  "cells": [
    {
      "cell_type": "code",
      "execution_count": 36,
      "metadata": {
        "colab": {
          "base_uri": "https://localhost:8080/"
        },
        "id": "KlHR_j3eCng0",
        "outputId": "3559aec9-d240-4885-e0e2-03ab6eac2c9c"
      },
      "outputs": [
        {
          "output_type": "stream",
          "name": "stdout",
          "text": [
            "Requirement already satisfied: networkx in /usr/local/lib/python3.12/dist-packages (3.5)\n",
            "Requirement already satisfied: matplotlib in /usr/local/lib/python3.12/dist-packages (3.10.0)\n",
            "Requirement already satisfied: pydot in /usr/local/lib/python3.12/dist-packages (3.0.4)\n",
            "Requirement already satisfied: contourpy>=1.0.1 in /usr/local/lib/python3.12/dist-packages (from matplotlib) (1.3.3)\n",
            "Requirement already satisfied: cycler>=0.10 in /usr/local/lib/python3.12/dist-packages (from matplotlib) (0.12.1)\n",
            "Requirement already satisfied: fonttools>=4.22.0 in /usr/local/lib/python3.12/dist-packages (from matplotlib) (4.60.0)\n",
            "Requirement already satisfied: kiwisolver>=1.3.1 in /usr/local/lib/python3.12/dist-packages (from matplotlib) (1.4.9)\n",
            "Requirement already satisfied: numpy>=1.23 in /usr/local/lib/python3.12/dist-packages (from matplotlib) (2.0.2)\n",
            "Requirement already satisfied: packaging>=20.0 in /usr/local/lib/python3.12/dist-packages (from matplotlib) (25.0)\n",
            "Requirement already satisfied: pillow>=8 in /usr/local/lib/python3.12/dist-packages (from matplotlib) (11.3.0)\n",
            "Requirement already satisfied: pyparsing>=2.3.1 in /usr/local/lib/python3.12/dist-packages (from matplotlib) (3.2.4)\n",
            "Requirement already satisfied: python-dateutil>=2.7 in /usr/local/lib/python3.12/dist-packages (from matplotlib) (2.9.0.post0)\n",
            "Requirement already satisfied: six>=1.5 in /usr/local/lib/python3.12/dist-packages (from python-dateutil>=2.7->matplotlib) (1.17.0)\n"
          ]
        }
      ],
      "source": [
        "!pip install networkx matplotlib pydot"
      ]
    },
    {
      "cell_type": "code",
      "source": [
        "import networkx as nx\n",
        "import matplotlib.pyplot as plt\n",
        "import re"
      ],
      "metadata": {
        "id": "HKPGZkzZDamn"
      },
      "execution_count": 37,
      "outputs": []
    },
    {
      "cell_type": "code",
      "source": [
        "def leer_gramatica(archivo):\n",
        "    gramatica={}\n",
        "    with open(archivo, 'r') as f:\n",
        "        for linea in f:\n",
        "            if '->' in linea:\n",
        "                izquierda, derecha=linea.strip().split('->')\n",
        "                produce=derecha.strip().split('|')\n",
        "                for pro in produce:\n",
        "                    gramatica.setdefault(izquierda.strip(), []).append(pro.strip().split())\n",
        "    return gramatica"
      ],
      "metadata": {
        "id": "bUlJL0bsDecg"
      },
      "execution_count": 38,
      "outputs": []
    },
    {
      "cell_type": "code",
      "source": [
        "def tokenize(expr):\n",
        "    tokens=[]\n",
        "    i=0\n",
        "    while i<len(expr):\n",
        "        if expr[i].isspace():\n",
        "            i+=1\n",
        "        elif expr[i] in '+*()':\n",
        "            tokens.append(expr[i])\n",
        "            i+=1\n",
        "        elif expr[i].isalpha():\n",
        "            j=i\n",
        "            while j<len(expr) and expr[j].isalpha():\n",
        "                j+=1\n",
        "            tokens.append(expr[i:j])\n",
        "            i=j\n",
        "        elif expr[i].isdigit():\n",
        "            j=i\n",
        "            while j<len(expr) and expr[j].isdigit():\n",
        "                j+=1\n",
        "            tokens.append(expr[i:j])\n",
        "            i=j\n",
        "        else:\n",
        "            raise ValueError(f\"Caracter inesperado: {expr[i]}\")\n",
        "    return tokens\n"
      ],
      "metadata": {
        "id": "VCpv4dGlDnQ_"
      },
      "execution_count": 39,
      "outputs": []
    },
    {
      "cell_type": "code",
      "source": [
        "class Parser:\n",
        "    def __init__(self, tokens, gramatica):\n",
        "        self.tokens=tokens\n",
        "        self.pos=0\n",
        "        self.id_nodo=0\n",
        "        self.gramatica=gramatica\n",
        "        self.G=nx.DiGraph()\n",
        "\n",
        "    def nodo(self, label):\n",
        "        _label=re.sub(r'[^a-zA-Z0-9_]', '_', label)\n",
        "        nombre=f\"{_label}_{self.id_nodo}\"\n",
        "        self.id_nodo+=1\n",
        "        self.G.add_node(nombre, label=label)\n",
        "        return nombre\n",
        "\n",
        "    def mirar(self):\n",
        "        return self.tokens[self.pos] if self.pos<len(self.tokens) else None\n",
        "\n",
        "    def avance(self, expected=None):\n",
        "        tok=self.mirar()\n",
        "        if tok is None:\n",
        "            return None\n",
        "        if expected is not None and tok != expected:\n",
        "            return None\n",
        "        self.pos+=1\n",
        "        return tok\n",
        "\n",
        "    def parse(self):\n",
        "        raiz=self.parse_noterminal('E')\n",
        "        if raiz and self.pos==len(self.tokens):\n",
        "            return raiz, self.G\n",
        "        return None, None\n",
        "\n",
        "    def parse_noterminal(self, simbolo):\n",
        "        if simbolo not in self.gramatica:\n",
        "            return None\n",
        "        pos_guardada=self.pos\n",
        "        padre_nodo=self.nodo(simbolo)\n",
        "\n",
        "        for produccion in self.gramatica[simbolo]:\n",
        "            nodos_hijos=[]\n",
        "            self.pos=pos_guardada\n",
        "            success=True\n",
        "            if produccion==['ε'] or produccion==[]:\n",
        "                nodo_vacio=self.nodo('ε')\n",
        "                self.G.add_edge(padre_nodo, nodo_vacio)\n",
        "                return padre_nodo\n",
        "\n",
        "            for sim in produccion:\n",
        "                if sim in self.gramatica:\n",
        "                    nodo_hijo = self.parse_noterminal(sim)\n",
        "                    if nodo_hijo is None:\n",
        "                        success = False\n",
        "                        break\n",
        "                    nodos_hijos.append(nodo_hijo)\n",
        "                else:\n",
        "                    tok=self.mirar()\n",
        "                    if tok is None:\n",
        "                        success=False\n",
        "                        break\n",
        "                    if sim=='id' and tok.isalpha():\n",
        "                        val_nodo=self.nodo(tok)\n",
        "                        id_nodo=self.nodo(\"id\")\n",
        "                        self.G.add_edge(id_nodo, val_nodo)\n",
        "                        nodos_hijos.append(id_nodo)\n",
        "                        self.avance()\n",
        "                    elif sim=='num' and tok.isdigit():\n",
        "                        val_nodo=self.nodo(tok)\n",
        "                        num_nodo=self.nodo(\"num\")\n",
        "                        self.G.add_edge(num_nodo, val_nodo)\n",
        "                        nodos_hijos.append(num_nodo)\n",
        "                        self.avance()\n",
        "                    elif sim =='pari' and tok=='(':\n",
        "                        val_nodo=self.nodo(tok)\n",
        "                        pari_nodo=self.nodo(\"pari\")\n",
        "                        self.G.add_edge(pari_nodo, val_nodo)\n",
        "                        nodos_hijos.append(pari_nodo)\n",
        "                        self.avance()\n",
        "                    elif sim=='pard' and tok==')':\n",
        "                        val_nodo=self.nodo(tok)\n",
        "                        pard_nodo=self.nodo(\"pard\")\n",
        "                        self.G.add_edge(pard_nodo, val_nodo)\n",
        "                        nodos_hijos.append(pard_nodo)\n",
        "                        self.avance()\n",
        "                    elif sim in ('opsum', 'opmul') and tok in '+*':\n",
        "                        if sim=='opsum' and tok=='+':\n",
        "                            op_nodo=self.nodo(\"opsum\")\n",
        "                            val_nodo=self.nodo(tok)\n",
        "                            self.G.add_edge(op_nodo, val_nodo)\n",
        "                            nodos_hijos.append(op_nodo)\n",
        "                            self.avance()\n",
        "                        elif sim=='opmul' and tok=='*':\n",
        "                            op_nodo=self.nodo(\"opmul\")\n",
        "                            val_nodo=self.nodo(tok)\n",
        "                            self.G.add_edge(op_nodo, val_nodo)\n",
        "                            nodos_hijos.append(op_nodo)\n",
        "                            self.avance()\n",
        "                        else:\n",
        "                            success=False\n",
        "                            break\n",
        "                    else:\n",
        "                        if tok==sim:\n",
        "                            val_nodo=self.nodo(tok)\n",
        "                            nodos_hijos.append(val_nodo)\n",
        "                            self.avance()\n",
        "                        else:\n",
        "                            success = False\n",
        "                            break\n",
        "\n",
        "            if success:\n",
        "                for hijo in nodos_hijos:\n",
        "                    self.G.add_edge(padre_nodo, hijo)\n",
        "                return padre_nodo\n",
        "        return None"
      ],
      "metadata": {
        "id": "-BUc0Nn1DrTD"
      },
      "execution_count": 40,
      "outputs": []
    },
    {
      "cell_type": "code",
      "source": [
        "def hacer_arbol(G):\n",
        "  pos=nx.nx_pydot.graphviz_layout(G, prog='dot')\n",
        "  labels=nx.get_node_attributes(G, 'label')\n",
        "  nx.draw(G, pos, labels=labels, with_labels=True, node_size=2000, node_color='lightyellow', font_size=10, font_weight='bold')\n",
        "  plt.show()"
      ],
      "metadata": {
        "id": "CLL2EaHnDvKC"
      },
      "execution_count": 41,
      "outputs": []
    },
    {
      "cell_type": "code",
      "source": [
        "if __name__==\"__main__\":\n",
        "  gramatica={\n",
        "    \"E\": [[\"T\", \"E'\"]],\n",
        "    \"E'\": [[\"opsum\", \"T\", \"E'\"], [\"ε\"]],\n",
        "    \"T\": [[\"F\", \"T'\"]],\n",
        "    \"T'\": [[\"opmul\", \"F\", \"T'\"], [\"ε\"]],\n",
        "    \"F\": [[\"id\"], [\"num\"], [\"pari\", \"E\", \"pard\"]],\n",
        "}\n",
        "  cadena=input(\"Ingresa una cadena de operacion: \")\n",
        "  tokens=tokenize(cadena)\n",
        "  p=Parser(tokens, gramatica)\n",
        "  raiz, G=p.parse()\n",
        "\n",
        "  if raiz is None or G is None:\n",
        "    print(\"cadena NO aceptada\")\n",
        "  else:\n",
        "    hacer_arbol(G)"
      ],
      "metadata": {
        "colab": {
          "base_uri": "https://localhost:8080/",
          "height": 533
        },
        "id": "yf9zrHWKD-sp",
        "outputId": "b9f79d48-317d-46fe-839a-c5ccc5a4d1a8"
      },
      "execution_count": 42,
      "outputs": [
        {
          "name": "stdout",
          "output_type": "stream",
          "text": [
            "Ingresa una cadena de operacion: (2+3)*(5+3)\n"
          ]
        },
        {
          "output_type": "display_data",
          "data": {
            "text/plain": [
              "<Figure size 640x480 with 1 Axes>"
            ],
            "image/png": "[encoded data removed]"
          },
          "metadata": {}
        }
      ]
    }
  ]
}